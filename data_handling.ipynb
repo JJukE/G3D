{
 "cells": [
  {
   "cell_type": "markdown",
   "id": "f4a6f11a-9301-4c41-a517-29364374f777",
   "metadata": {},
   "source": [
    "# in dataset.py"
   ]
  },
  {
   "cell_type": "code",
   "execution_count": 24,
   "id": "c8e85250-f8d9-466f-a6e3-287365d454cd",
   "metadata": {},
   "outputs": [
    {
     "name": "stdout",
     "output_type": "stream",
     "text": [
      "/root\n"
     ]
    }
   ],
   "source": [
    "import os\n",
    "\n",
    "os.chdir(\"/root/\")\n",
    "print(os.getcwd())"
   ]
  },
  {
   "cell_type": "code",
   "execution_count": 21,
   "id": "41c4c1be-b53b-4e35-a050-311f29886c69",
   "metadata": {},
   "outputs": [],
   "source": [
    "import torch.utils.data as data\n",
    "import os\n",
    "import os.path\n",
    "import copy\n",
    "import json\n",
    "import random\n",
    "\n",
    "import torch\n",
    "import numpy as np\n",
    "import pickle\n",
    "from tqdm import tqdm\n",
    "\n",
    "import graphto3d.dataset.util as util\n",
    "from graphto3d.helpers.psutil import FreeMemLinux\n",
    "from graphto3d.helpers.util import normalize_box_params, denormalize_box_params, get_rotation"
   ]
  },
  {
   "cell_type": "markdown",
   "id": "6c29cf50-6e5b-43b1-9295-89bc8d5d515d",
   "metadata": {},
   "source": [
    "## RIODatasetSceneGraph class"
   ]
  },
  {
   "cell_type": "code",
   "execution_count": null,
   "id": "c47d5173-9d43-46da-a2ff-1731a9707c2e",
   "metadata": {},
   "outputs": [],
   "source": [
    "class RIODatasetSceneGraph(data.Dataset):\n",
    "    def __init__(self, root, root_3rscan,\n",
    "                label_file, npoints=2500, class_choidce=None,\n",
    "                split='train', data_augmentation=True, shuffle_objs=False,\n",
    "                pass_scan_id=False, use_points=True, use_scene_rels=False,\n",
    "                data_len=None, with_changes=True, vae_baseline=False,\n",
    "                scale_func='diag', eval=False, eval_type='addition',\n",
    "                atlas=None, path2atlas=None, with_feats=False,\n",
    "                seed=True, use_splits=False, large=False, use_rio27=False,\n",
    "                recompute_feats=False, use_canonical=False, crop_floor=False,\n",
    "                center_scene_to_floor=False):\n",
    "        # options currently not used in the experiments\n",
    "        # for partial scenes (use_splits), it crops the floor around the objects that are part of that scene fraction\n",
    "        self.crop_floor = crop_floor\n",
    "        "
   ]
  }
 ],
 "metadata": {
  "kernelspec": {
   "display_name": "Python 3",
   "language": "python",
   "name": "python3"
  },
  "language_info": {
   "codemirror_mode": {
    "name": "ipython",
    "version": 3
   },
   "file_extension": ".py",
   "mimetype": "text/x-python",
   "name": "python",
   "nbconvert_exporter": "python",
   "pygments_lexer": "ipython3",
   "version": "3.7.13"
  }
 },
 "nbformat": 4,
 "nbformat_minor": 5
}
